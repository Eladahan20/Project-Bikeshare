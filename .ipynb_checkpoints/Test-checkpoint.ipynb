{
 "cells": [
  {
   "cell_type": "code",
   "execution_count": 1,
   "id": "590431ae",
   "metadata": {},
   "outputs": [],
   "source": [
    "import pandas as pd"
   ]
  },
  {
   "cell_type": "code",
   "execution_count": 2,
   "id": "ab9741d5",
   "metadata": {},
   "outputs": [],
   "source": [
    "df = pd.read_csv('washington.csv')"
   ]
  },
  {
   "cell_type": "code",
   "execution_count": 4,
   "id": "047bfa9c",
   "metadata": {},
   "outputs": [],
   "source": [
    "df['Start Time'] = pd.to_datetime(df['Start Time'])\n",
    "#Create columns for month, day and hour\n",
    "df['Month'] = df['Start Time'].dt.month_name()\n",
    "df['Day'] = df['Start Time'].dt.day_name()\n",
    "df['Start Hour'] = df['Start Time'].dt.hour"
   ]
  },
  {
   "cell_type": "code",
   "execution_count": 5,
   "id": "86cafc4b",
   "metadata": {},
   "outputs": [
    {
     "data": {
      "text/html": [
       "<div>\n",
       "<style scoped>\n",
       "    .dataframe tbody tr th:only-of-type {\n",
       "        vertical-align: middle;\n",
       "    }\n",
       "\n",
       "    .dataframe tbody tr th {\n",
       "        vertical-align: top;\n",
       "    }\n",
       "\n",
       "    .dataframe thead th {\n",
       "        text-align: right;\n",
       "    }\n",
       "</style>\n",
       "<table border=\"1\" class=\"dataframe\">\n",
       "  <thead>\n",
       "    <tr style=\"text-align: right;\">\n",
       "      <th></th>\n",
       "      <th>Unnamed: 0</th>\n",
       "      <th>Start Time</th>\n",
       "      <th>End Time</th>\n",
       "      <th>Trip Duration</th>\n",
       "      <th>Start Station</th>\n",
       "      <th>End Station</th>\n",
       "      <th>User Type</th>\n",
       "      <th>Month</th>\n",
       "      <th>Day</th>\n",
       "      <th>Start Hour</th>\n",
       "    </tr>\n",
       "  </thead>\n",
       "  <tbody>\n",
       "    <tr>\n",
       "      <th>0</th>\n",
       "      <td>1621326</td>\n",
       "      <td>2017-06-21 08:36:34</td>\n",
       "      <td>2017-06-21 08:44:43</td>\n",
       "      <td>489.066</td>\n",
       "      <td>14th &amp; Belmont St NW</td>\n",
       "      <td>15th &amp; K St NW</td>\n",
       "      <td>Subscriber</td>\n",
       "      <td>June</td>\n",
       "      <td>Wednesday</td>\n",
       "      <td>8</td>\n",
       "    </tr>\n",
       "    <tr>\n",
       "      <th>1</th>\n",
       "      <td>482740</td>\n",
       "      <td>2017-03-11 10:40:00</td>\n",
       "      <td>2017-03-11 10:46:00</td>\n",
       "      <td>402.549</td>\n",
       "      <td>Yuma St &amp; Tenley Circle NW</td>\n",
       "      <td>Connecticut Ave &amp; Yuma St NW</td>\n",
       "      <td>Subscriber</td>\n",
       "      <td>March</td>\n",
       "      <td>Saturday</td>\n",
       "      <td>10</td>\n",
       "    </tr>\n",
       "    <tr>\n",
       "      <th>2</th>\n",
       "      <td>1330037</td>\n",
       "      <td>2017-05-30 01:02:59</td>\n",
       "      <td>2017-05-30 01:13:37</td>\n",
       "      <td>637.251</td>\n",
       "      <td>17th St &amp; Massachusetts Ave NW</td>\n",
       "      <td>5th &amp; K St NW</td>\n",
       "      <td>Subscriber</td>\n",
       "      <td>May</td>\n",
       "      <td>Tuesday</td>\n",
       "      <td>1</td>\n",
       "    </tr>\n",
       "    <tr>\n",
       "      <th>3</th>\n",
       "      <td>665458</td>\n",
       "      <td>2017-04-02 07:48:35</td>\n",
       "      <td>2017-04-02 08:19:03</td>\n",
       "      <td>1827.341</td>\n",
       "      <td>Constitution Ave &amp; 2nd St NW/DOL</td>\n",
       "      <td>M St &amp; Pennsylvania Ave NW</td>\n",
       "      <td>Customer</td>\n",
       "      <td>April</td>\n",
       "      <td>Sunday</td>\n",
       "      <td>7</td>\n",
       "    </tr>\n",
       "    <tr>\n",
       "      <th>4</th>\n",
       "      <td>1481135</td>\n",
       "      <td>2017-06-10 08:36:28</td>\n",
       "      <td>2017-06-10 09:02:17</td>\n",
       "      <td>1549.427</td>\n",
       "      <td>Henry Bacon Dr &amp; Lincoln Memorial Circle NW</td>\n",
       "      <td>Maine Ave &amp; 7th St SW</td>\n",
       "      <td>Subscriber</td>\n",
       "      <td>June</td>\n",
       "      <td>Saturday</td>\n",
       "      <td>8</td>\n",
       "    </tr>\n",
       "    <tr>\n",
       "      <th>5</th>\n",
       "      <td>1148202</td>\n",
       "      <td>2017-05-14 07:18:18</td>\n",
       "      <td>2017-05-14 07:24:56</td>\n",
       "      <td>398.000</td>\n",
       "      <td>1st &amp; K St SE</td>\n",
       "      <td>Eastern Market Metro / Pennsylvania Ave &amp; 7th ...</td>\n",
       "      <td>Subscriber</td>\n",
       "      <td>May</td>\n",
       "      <td>Sunday</td>\n",
       "      <td>7</td>\n",
       "    </tr>\n",
       "    <tr>\n",
       "      <th>6</th>\n",
       "      <td>1594275</td>\n",
       "      <td>2017-06-19 08:41:43</td>\n",
       "      <td>2017-06-19 09:00:08</td>\n",
       "      <td>1105.429</td>\n",
       "      <td>Park Rd &amp; Holmead Pl NW</td>\n",
       "      <td>8th &amp; H St NW</td>\n",
       "      <td>Subscriber</td>\n",
       "      <td>June</td>\n",
       "      <td>Monday</td>\n",
       "      <td>8</td>\n",
       "    </tr>\n",
       "    <tr>\n",
       "      <th>7</th>\n",
       "      <td>1601832</td>\n",
       "      <td>2017-06-20 05:54:42</td>\n",
       "      <td>2017-06-20 06:05:18</td>\n",
       "      <td>636.218</td>\n",
       "      <td>1st &amp; D St SE</td>\n",
       "      <td>Potomac &amp; Pennsylvania Ave SE</td>\n",
       "      <td>Subscriber</td>\n",
       "      <td>June</td>\n",
       "      <td>Tuesday</td>\n",
       "      <td>5</td>\n",
       "    </tr>\n",
       "    <tr>\n",
       "      <th>8</th>\n",
       "      <td>574182</td>\n",
       "      <td>2017-03-24 20:37:00</td>\n",
       "      <td>2017-03-24 20:42:00</td>\n",
       "      <td>328.530</td>\n",
       "      <td>18th &amp; R St NW</td>\n",
       "      <td>15th &amp; P St NW</td>\n",
       "      <td>Subscriber</td>\n",
       "      <td>March</td>\n",
       "      <td>Friday</td>\n",
       "      <td>20</td>\n",
       "    </tr>\n",
       "    <tr>\n",
       "      <th>9</th>\n",
       "      <td>327058</td>\n",
       "      <td>2017-02-20 21:12:00</td>\n",
       "      <td>2017-02-20 21:31:00</td>\n",
       "      <td>1188.090</td>\n",
       "      <td>17th &amp; Corcoran St NW</td>\n",
       "      <td>Lynn &amp; 19th St North</td>\n",
       "      <td>Subscriber</td>\n",
       "      <td>February</td>\n",
       "      <td>Monday</td>\n",
       "      <td>21</td>\n",
       "    </tr>\n",
       "  </tbody>\n",
       "</table>\n",
       "</div>"
      ],
      "text/plain": [
       "   Unnamed: 0          Start Time             End Time  Trip Duration  \\\n",
       "0     1621326 2017-06-21 08:36:34  2017-06-21 08:44:43        489.066   \n",
       "1      482740 2017-03-11 10:40:00  2017-03-11 10:46:00        402.549   \n",
       "2     1330037 2017-05-30 01:02:59  2017-05-30 01:13:37        637.251   \n",
       "3      665458 2017-04-02 07:48:35  2017-04-02 08:19:03       1827.341   \n",
       "4     1481135 2017-06-10 08:36:28  2017-06-10 09:02:17       1549.427   \n",
       "5     1148202 2017-05-14 07:18:18  2017-05-14 07:24:56        398.000   \n",
       "6     1594275 2017-06-19 08:41:43  2017-06-19 09:00:08       1105.429   \n",
       "7     1601832 2017-06-20 05:54:42  2017-06-20 06:05:18        636.218   \n",
       "8      574182 2017-03-24 20:37:00  2017-03-24 20:42:00        328.530   \n",
       "9      327058 2017-02-20 21:12:00  2017-02-20 21:31:00       1188.090   \n",
       "\n",
       "                                 Start Station  \\\n",
       "0                         14th & Belmont St NW   \n",
       "1                   Yuma St & Tenley Circle NW   \n",
       "2               17th St & Massachusetts Ave NW   \n",
       "3             Constitution Ave & 2nd St NW/DOL   \n",
       "4  Henry Bacon Dr & Lincoln Memorial Circle NW   \n",
       "5                                1st & K St SE   \n",
       "6                      Park Rd & Holmead Pl NW   \n",
       "7                                1st & D St SE   \n",
       "8                               18th & R St NW   \n",
       "9                        17th & Corcoran St NW   \n",
       "\n",
       "                                         End Station   User Type     Month  \\\n",
       "0                                     15th & K St NW  Subscriber      June   \n",
       "1                       Connecticut Ave & Yuma St NW  Subscriber     March   \n",
       "2                                      5th & K St NW  Subscriber       May   \n",
       "3                         M St & Pennsylvania Ave NW    Customer     April   \n",
       "4                              Maine Ave & 7th St SW  Subscriber      June   \n",
       "5  Eastern Market Metro / Pennsylvania Ave & 7th ...  Subscriber       May   \n",
       "6                                      8th & H St NW  Subscriber      June   \n",
       "7                      Potomac & Pennsylvania Ave SE  Subscriber      June   \n",
       "8                                     15th & P St NW  Subscriber     March   \n",
       "9                               Lynn & 19th St North  Subscriber  February   \n",
       "\n",
       "         Day  Start Hour  \n",
       "0  Wednesday           8  \n",
       "1   Saturday          10  \n",
       "2    Tuesday           1  \n",
       "3     Sunday           7  \n",
       "4   Saturday           8  \n",
       "5     Sunday           7  \n",
       "6     Monday           8  \n",
       "7    Tuesday           5  \n",
       "8     Friday          20  \n",
       "9     Monday          21  "
      ]
     },
     "execution_count": 5,
     "metadata": {},
     "output_type": "execute_result"
    }
   ],
   "source": [
    "df.head(10)"
   ]
  },
  {
   "cell_type": "code",
   "execution_count": 8,
   "id": "f269fce5",
   "metadata": {},
   "outputs": [
    {
     "data": {
      "text/plain": [
       "8"
      ]
     },
     "execution_count": 8,
     "metadata": {},
     "output_type": "execute_result"
    }
   ],
   "source": [
    "df['Start Hour'].mode()[0]"
   ]
  },
  {
   "cell_type": "code",
   "execution_count": 9,
   "id": "f1d0dabb",
   "metadata": {},
   "outputs": [
    {
     "data": {
      "text/plain": [
       "'Columbus Circle / Union Station'"
      ]
     },
     "execution_count": 9,
     "metadata": {},
     "output_type": "execute_result"
    }
   ],
   "source": [
    "df['Start Station'].mode()[0]"
   ]
  },
  {
   "cell_type": "code",
   "execution_count": 10,
   "id": "1d7abb4e",
   "metadata": {},
   "outputs": [
    {
     "data": {
      "text/plain": [
       "'Columbus Circle / Union Station'"
      ]
     },
     "execution_count": 10,
     "metadata": {},
     "output_type": "execute_result"
    }
   ],
   "source": [
    "df['End Station'].mode()[0]"
   ]
  },
  {
   "cell_type": "code",
   "execution_count": 12,
   "id": "7cf3ee04",
   "metadata": {},
   "outputs": [],
   "source": [
    "mc_comb = df.groupby(['Start Station', 'End Station']).size().sort_values(ascending=False).idxmax()\n"
   ]
  },
  {
   "cell_type": "code",
   "execution_count": 13,
   "id": "6afa531f",
   "metadata": {},
   "outputs": [
    {
     "data": {
      "text/plain": [
       "tuple"
      ]
     },
     "execution_count": 13,
     "metadata": {},
     "output_type": "execute_result"
    }
   ],
   "source": [
    "type(mc_comb)"
   ]
  },
  {
   "cell_type": "code",
   "execution_count": 17,
   "id": "117bbd50",
   "metadata": {},
   "outputs": [
    {
     "data": {
      "text/plain": [
       "'Jefferson Dr & 14th St SW & Jefferson Dr & 14th St SW'"
      ]
     },
     "execution_count": 17,
     "metadata": {},
     "output_type": "execute_result"
    }
   ],
   "source": [
    "' & '.join(mc_comb)"
   ]
  },
  {
   "cell_type": "code",
   "execution_count": null,
   "id": "3f0ac7f8",
   "metadata": {},
   "outputs": [],
   "source": []
  },
  {
   "cell_type": "code",
   "execution_count": null,
   "id": "79dd88b1",
   "metadata": {},
   "outputs": [],
   "source": []
  }
 ],
 "metadata": {
  "kernelspec": {
   "display_name": "Python 3 (ipykernel)",
   "language": "python",
   "name": "python3"
  },
  "language_info": {
   "codemirror_mode": {
    "name": "ipython",
    "version": 3
   },
   "file_extension": ".py",
   "mimetype": "text/x-python",
   "name": "python",
   "nbconvert_exporter": "python",
   "pygments_lexer": "ipython3",
   "version": "3.9.12"
  }
 },
 "nbformat": 4,
 "nbformat_minor": 5
}
